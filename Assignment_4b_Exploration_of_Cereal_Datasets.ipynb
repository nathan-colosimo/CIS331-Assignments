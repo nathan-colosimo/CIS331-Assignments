{
  "nbformat": 4,
  "nbformat_minor": 0,
  "metadata": {
    "colab": {
      "provenance": [],
      "authorship_tag": "ABX9TyMOCL2EwLz6bBegNGf9UL2e",
      "include_colab_link": true
    },
    "kernelspec": {
      "name": "ir",
      "display_name": "R"
    },
    "language_info": {
      "name": "R"
    }
  },
  "cells": [
    {
      "cell_type": "markdown",
      "metadata": {
        "id": "view-in-github",
        "colab_type": "text"
      },
      "source": [
        "<a href=\"https://colab.research.google.com/github/nathan-colosimo/CIS331-Assignments/blob/main/Assignment_4b_Exploration_of_Cereal_Datasets.ipynb\" target=\"_parent\"><img src=\"https://colab.research.google.com/assets/colab-badge.svg\" alt=\"Open In Colab\"/></a>"
      ]
    },
    {
      "cell_type": "code",
      "execution_count": 1,
      "metadata": {
        "colab": {
          "base_uri": "https://localhost:8080/"
        },
        "id": "bzTd4r_ofIF6",
        "outputId": "b0ff25d2-66a6-4614-b86f-5e39ce0ac7c9"
      },
      "outputs": [
        {
          "output_type": "stream",
          "name": "stderr",
          "text": [
            "Warning message in system(\"timedatectl\", intern = TRUE):\n",
            "“running command 'timedatectl' had status 1”\n",
            "── \u001b[1mAttaching packages\u001b[22m ─────────────────────────────────────── tidyverse 1.3.1 ──\n",
            "\n",
            "\u001b[32m✔\u001b[39m \u001b[34mggplot2\u001b[39m 3.4.0      \u001b[32m✔\u001b[39m \u001b[34mpurrr  \u001b[39m 0.3.5 \n",
            "\u001b[32m✔\u001b[39m \u001b[34mtibble \u001b[39m 3.1.8      \u001b[32m✔\u001b[39m \u001b[34mdplyr  \u001b[39m 1.0.10\n",
            "\u001b[32m✔\u001b[39m \u001b[34mtidyr  \u001b[39m 1.2.1      \u001b[32m✔\u001b[39m \u001b[34mstringr\u001b[39m 1.4.1 \n",
            "\u001b[32m✔\u001b[39m \u001b[34mreadr  \u001b[39m 2.1.3      \u001b[32m✔\u001b[39m \u001b[34mforcats\u001b[39m 0.5.2 \n",
            "\n",
            "── \u001b[1mConflicts\u001b[22m ────────────────────────────────────────── tidyverse_conflicts() ──\n",
            "\u001b[31m✖\u001b[39m \u001b[34mdplyr\u001b[39m::\u001b[32mfilter()\u001b[39m masks \u001b[34mstats\u001b[39m::filter()\n",
            "\u001b[31m✖\u001b[39m \u001b[34mdplyr\u001b[39m::\u001b[32mlag()\u001b[39m    masks \u001b[34mstats\u001b[39m::lag()\n",
            "\n"
          ]
        }
      ],
      "source": [
        "#---\n",
        "#title: \"Assignment 4b:Exploration of Cereal Datasets [Partial]\"\n",
        "# author: \"Nathan Colosimo\"\n",
        "# Date: \"12/1/2022\"\n",
        "# ---\n",
        "\n",
        "library(tidyverse)"
      ]
    },
    {
      "cell_type": "code",
      "source": [
        "## The Data [5pts]\n",
        "# save the cereals.csv file in the same location/folder as your R Markdown file.[2pts]\n",
        "cereals <- read_csv(\"cereals.csv\")"
      ],
      "metadata": {
        "colab": {
          "base_uri": "https://localhost:8080/"
        },
        "id": "XhFfX8Z1fYuM",
        "outputId": "b2c04af1-cdcd-48a5-8961-184da8622a0e"
      },
      "execution_count": 4,
      "outputs": [
        {
          "output_type": "stream",
          "name": "stderr",
          "text": [
            "\u001b[1mRows: \u001b[22m\u001b[34m77\u001b[39m \u001b[1mColumns: \u001b[22m\u001b[34m16\u001b[39m\n",
            "\u001b[36m──\u001b[39m \u001b[1mColumn specification\u001b[22m \u001b[36m────────────────────────────────────────────────────────\u001b[39m\n",
            "\u001b[1mDelimiter:\u001b[22m \",\"\n",
            "\u001b[31mchr\u001b[39m  (3): name, mfr, type\n",
            "\u001b[32mdbl\u001b[39m (13): calories, protein, fat, sodium, fiber, carbo, sugars, potass, vita...\n",
            "\n",
            "\u001b[36mℹ\u001b[39m Use `spec()` to retrieve the full column specification for this data.\n",
            "\u001b[36mℹ\u001b[39m Specify the column types or set `show_col_types = FALSE` to quiet this message.\n"
          ]
        }
      ]
    },
    {
      "cell_type": "code",
      "source": [
        "# [Briefly summarize the dataset here.{2pts}]\n",
        "# Dataset contains nutritional information for various cereals (single serving)"
      ],
      "metadata": {
        "id": "Kusu-y-Af8gv"
      },
      "execution_count": 8,
      "outputs": []
    },
    {
      "cell_type": "code",
      "source": [
        "#### Write code to show the mean and median and sd of sugar content per serving of all cereals\n",
        "## [2pts]\n",
        "\n",
        "mean(cereals$sugars, na.rm = TRUE)\n",
        "median(cereals$sugars, na.rm = TRUE)\n",
        "sd(cereals$sugars, na.rm = TRUE)"
      ],
      "metadata": {
        "colab": {
          "base_uri": "https://localhost:8080/",
          "height": 69
        },
        "id": "KtHq3Armg_NF",
        "outputId": "f2a702cc-c0e0-486f-db92-d20a09bdf79d"
      },
      "execution_count": 11,
      "outputs": [
        {
          "output_type": "display_data",
          "data": {
            "text/html": [
              "7.02631578947368"
            ],
            "text/markdown": "7.02631578947368",
            "text/latex": "7.02631578947368",
            "text/plain": [
              "[1] 7.026316"
            ]
          },
          "metadata": {}
        },
        {
          "output_type": "display_data",
          "data": {
            "text/html": [
              "7"
            ],
            "text/markdown": "7",
            "text/latex": "7",
            "text/plain": [
              "[1] 7"
            ]
          },
          "metadata": {}
        },
        {
          "output_type": "display_data",
          "data": {
            "text/html": [
              "4.37865636684901"
            ],
            "text/markdown": "4.37865636684901",
            "text/latex": "4.37865636684901",
            "text/plain": [
              "[1] 4.378656"
            ]
          },
          "metadata": {}
        }
      ]
    },
    {
      "cell_type": "code",
      "source": [
        "#### Write code to show the total calories of all cereals. [2pts]\n",
        "cereals$calories"
      ],
      "metadata": {
        "colab": {
          "base_uri": "https://localhost:8080/",
          "height": 52
        },
        "id": "5M0NkNyphBh9",
        "outputId": "675ee54e-b832-4ec6-f3b8-4e26fc7df107"
      },
      "execution_count": 13,
      "outputs": [
        {
          "output_type": "display_data",
          "data": {
            "text/html": [
              "<style>\n",
              ".list-inline {list-style: none; margin:0; padding: 0}\n",
              ".list-inline>li {display: inline-block}\n",
              ".list-inline>li:not(:last-child)::after {content: \"\\00b7\"; padding: 0 .5ex}\n",
              "</style>\n",
              "<ol class=list-inline><li>70</li><li>120</li><li>70</li><li>50</li><li>110</li><li>110</li><li>110</li><li>130</li><li>90</li><li>90</li><li>120</li><li>110</li><li>120</li><li>110</li><li>110</li><li>110</li><li>100</li><li>110</li><li>110</li><li>110</li><li>100</li><li>110</li><li>100</li><li>100</li><li>110</li><li>110</li><li>100</li><li>120</li><li>120</li><li>110</li><li>100</li><li>110</li><li>100</li><li>110</li><li>120</li><li>120</li><li>110</li><li>110</li><li>110</li><li>140</li><li>110</li><li>100</li><li>110</li><li>100</li><li>150</li><li>150</li><li>160</li><li>100</li><li>120</li><li>140</li><li>90</li><li>130</li><li>120</li><li>100</li><li>50</li><li>50</li><li>100</li><li>100</li><li>120</li><li>100</li><li>90</li><li>110</li><li>110</li><li>80</li><li>90</li><li>90</li><li>110</li><li>110</li><li>90</li><li>110</li><li>140</li><li>100</li><li>110</li><li>110</li><li>100</li><li>100</li><li>110</li></ol>\n"
            ],
            "text/markdown": "1. 70\n2. 120\n3. 70\n4. 50\n5. 110\n6. 110\n7. 110\n8. 130\n9. 90\n10. 90\n11. 120\n12. 110\n13. 120\n14. 110\n15. 110\n16. 110\n17. 100\n18. 110\n19. 110\n20. 110\n21. 100\n22. 110\n23. 100\n24. 100\n25. 110\n26. 110\n27. 100\n28. 120\n29. 120\n30. 110\n31. 100\n32. 110\n33. 100\n34. 110\n35. 120\n36. 120\n37. 110\n38. 110\n39. 110\n40. 140\n41. 110\n42. 100\n43. 110\n44. 100\n45. 150\n46. 150\n47. 160\n48. 100\n49. 120\n50. 140\n51. 90\n52. 130\n53. 120\n54. 100\n55. 50\n56. 50\n57. 100\n58. 100\n59. 120\n60. 100\n61. 90\n62. 110\n63. 110\n64. 80\n65. 90\n66. 90\n67. 110\n68. 110\n69. 90\n70. 110\n71. 140\n72. 100\n73. 110\n74. 110\n75. 100\n76. 100\n77. 110\n\n\n",
            "text/latex": "\\begin{enumerate*}\n\\item 70\n\\item 120\n\\item 70\n\\item 50\n\\item 110\n\\item 110\n\\item 110\n\\item 130\n\\item 90\n\\item 90\n\\item 120\n\\item 110\n\\item 120\n\\item 110\n\\item 110\n\\item 110\n\\item 100\n\\item 110\n\\item 110\n\\item 110\n\\item 100\n\\item 110\n\\item 100\n\\item 100\n\\item 110\n\\item 110\n\\item 100\n\\item 120\n\\item 120\n\\item 110\n\\item 100\n\\item 110\n\\item 100\n\\item 110\n\\item 120\n\\item 120\n\\item 110\n\\item 110\n\\item 110\n\\item 140\n\\item 110\n\\item 100\n\\item 110\n\\item 100\n\\item 150\n\\item 150\n\\item 160\n\\item 100\n\\item 120\n\\item 140\n\\item 90\n\\item 130\n\\item 120\n\\item 100\n\\item 50\n\\item 50\n\\item 100\n\\item 100\n\\item 120\n\\item 100\n\\item 90\n\\item 110\n\\item 110\n\\item 80\n\\item 90\n\\item 90\n\\item 110\n\\item 110\n\\item 90\n\\item 110\n\\item 140\n\\item 100\n\\item 110\n\\item 110\n\\item 100\n\\item 100\n\\item 110\n\\end{enumerate*}\n",
            "text/plain": [
              " [1]  70 120  70  50 110 110 110 130  90  90 120 110 120 110 110 110 100 110 110\n",
              "[20] 110 100 110 100 100 110 110 100 120 120 110 100 110 100 110 120 120 110 110\n",
              "[39] 110 140 110 100 110 100 150 150 160 100 120 140  90 130 120 100  50  50 100\n",
              "[58] 100 120 100  90 110 110  80  90  90 110 110  90 110 140 100 110 110 100 100\n",
              "[77] 110"
            ]
          },
          "metadata": {}
        }
      ]
    },
    {
      "cell_type": "code",
      "source": [
        "## Conclusion [4pts]\n",
        "\n",
        "### What did you learn about cereals?  \n",
        "# Lots of cereal is extremely unhealthy\n",
        "# Type C cereal is (on average) healthier than the average cereal\n",
        "# \"Natural\" labeled cereal does not mean healthy"
      ],
      "metadata": {
        "id": "PvJDAFbJiQHr"
      },
      "execution_count": 18,
      "outputs": []
    },
    {
      "cell_type": "code",
      "source": [
        "## Extra Credit: Visualizing the data[5pts]\n",
        "#### Make a plot using ggplot2\n",
        "barplot(cereals$sugars, xlab = \"\",\n",
        "ylab = \"Sugar (g) per serving\", main = \"Sugar in Cereal\",\n",
        "col = \"blue\", lwd = 2)\n",
        "\n",
        "dev.off()"
      ],
      "metadata": {
        "colab": {
          "base_uri": "https://localhost:8080/",
          "height": 454
        },
        "id": "jjz68OeEmviV",
        "outputId": "7895d804-b236-4d7e-fb11-f311952afade"
      },
      "execution_count": 19,
      "outputs": [
        {
          "output_type": "display_data",
          "data": {
            "text/html": [
              "<strong>null device:</strong> 1"
            ],
            "text/markdown": "**null device:** 1",
            "text/latex": "\\textbf{null device:} 1",
            "text/plain": [
              "null device \n",
              "          1 "
            ]
          },
          "metadata": {}
        },
        {
          "output_type": "display_data",
          "data": {
            "text/plain": [
              "Plot with title “Sugar in Cereal”"
            ],
            "image/png": "[encoded data removed]"
          },
          "metadata": {
            "image/png": {
              "width": 420,
              "height": 420
            }
          }
        }
      ]
    }
  ]
}