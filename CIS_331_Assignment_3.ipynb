{
  "nbformat": 4,
  "nbformat_minor": 0,
  "metadata": {
    "colab": {
      "provenance": [],
      "authorship_tag": "ABX9TyON6A5sRqCfQTnVB7xjSDJv",
      "include_colab_link": true
    },
    "kernelspec": {
      "name": "ir",
      "display_name": "R"
    },
    "language_info": {
      "name": "R"
    },
    "gpuClass": "standard"
  },
  "cells": [
    {
      "cell_type": "markdown",
      "metadata": {
        "id": "view-in-github",
        "colab_type": "text"
      },
      "source": [
        "<a href=\"https://colab.research.google.com/github/nathan-colosimo/CIS331-Assignments/blob/main/CIS_331_Assignment_3.ipynb\" target=\"_parent\"><img src=\"https://colab.research.google.com/assets/colab-badge.svg\" alt=\"Open In Colab\"/></a>"
      ]
    },
    {
      "cell_type": "code",
      "execution_count": null,
      "metadata": {
        "id": "0dFLi0Gi6abS"
      },
      "outputs": [],
      "source": [
        "######################\n",
        "# Question 1 - Vectors\n",
        "######################"
      ]
    },
    {
      "cell_type": "code",
      "source": [
        "# A\n",
        "\n",
        "Ax <- 8\n",
        "Ay <- 2\n",
        "\n",
        "Ax %% Ay"
      ],
      "metadata": {
        "id": "CkY_q9wb6ntN"
      },
      "execution_count": null,
      "outputs": []
    },
    {
      "cell_type": "code",
      "source": [
        "# B\n",
        "\n",
        "heights = c(63, 69, 60, 65, NA, 68, 61, 70, 61, 59, 64, 69, 63, 63, NA, 72, 65, 64, 70, 63, 65)\n",
        "count = 0\n",
        "\n",
        "heights_no_na = heights[! heights %in% c(NA)]\n",
        "\n",
        "heights_no_na\n",
        "median(heights_no_na)\n",
        "\n",
        "#  for(i in heights_no_na) {\n",
        "#    if(heights_no_na[i] > 67) {\n",
        "#      count = count + 1\n",
        "#    }\n",
        "#  }\n",
        "\n",
        "count"
      ],
      "metadata": {
        "id": "3nx2lWiF6yyr"
      },
      "execution_count": null,
      "outputs": []
    },
    {
      "cell_type": "code",
      "source": [
        "# C\n",
        "\n",
        "Cx = sqrt(2345)\n",
        "\n",
        "print(log2(Cx))"
      ],
      "metadata": {
        "id": "8yBpdNto7cyT"
      },
      "execution_count": null,
      "outputs": []
    },
    {
      "cell_type": "code",
      "source": [
        "# D\n",
        "\n",
        "vec1 = c(2,5,8,14,18,20)\n",
        "vec2 = 5:10"
      ],
      "metadata": {
        "id": "GzG3LLls7gak"
      },
      "execution_count": null,
      "outputs": []
    },
    {
      "cell_type": "code",
      "source": [
        "# E\n",
        "\n",
        "print(vec2 - vec1)"
      ],
      "metadata": {
        "id": "1yTUJX42EAPJ"
      },
      "execution_count": null,
      "outputs": []
    },
    {
      "cell_type": "code",
      "source": [
        "# F\n",
        "\n",
        "Fx = seq(from=2, by=3, length.out=100)\n",
        "Fx[25]\n",
        "Fx[30]\n",
        "Fx[35]\n",
        "Fx[40]\n",
        "Fx[30:40]"
      ],
      "metadata": {
        "id": "hnYRsmtlEG67"
      },
      "execution_count": null,
      "outputs": []
    },
    {
      "cell_type": "code",
      "source": [
        "# G\n",
        "\n",
        "mouse.color = c(\"red\", \"blue\", \"white\", \"brown\")\n",
        "mouse.color[3]\n",
        "\n",
        "mouse.weight = c(18,20,19,24)\n",
        "mouse.weight[1]"
      ],
      "metadata": {
        "id": "hx639KP9GCcZ"
      },
      "execution_count": null,
      "outputs": []
    },
    {
      "cell_type": "code",
      "source": [
        "######################\n",
        "# Question 2 - Matrix\n",
        "######################"
      ],
      "metadata": {
        "id": "wBxQQWglHw3B"
      },
      "execution_count": null,
      "outputs": []
    },
    {
      "cell_type": "code",
      "source": [
        "# A\n",
        "\n",
        "A2 <-matrix(1:20, byrow = TRUE, nrow = 5)\n",
        "A2"
      ],
      "metadata": {
        "id": "nKO-kjRuH0B7"
      },
      "execution_count": null,
      "outputs": []
    },
    {
      "cell_type": "code",
      "source": [
        "# B\n",
        "\n",
        "dim(A2)"
      ],
      "metadata": {
        "id": "fimB232_H1M7"
      },
      "execution_count": null,
      "outputs": []
    },
    {
      "cell_type": "code",
      "source": [
        "# C\n",
        "\n",
        "A21 <- cbind(A2, c(21:25))\n",
        "A21"
      ],
      "metadata": {
        "id": "yEujh_WFH4LC"
      },
      "execution_count": null,
      "outputs": []
    },
    {
      "cell_type": "code",
      "source": [
        "# D\n",
        "\n",
        "dim(A21)"
      ],
      "metadata": {
        "id": "Qm_sEe-BH6qS"
      },
      "execution_count": null,
      "outputs": []
    },
    {
      "cell_type": "code",
      "source": [
        "# E\n",
        "\n",
        "A21[2:4,3:5]"
      ],
      "metadata": {
        "id": "CfES7rQ0H-P7"
      },
      "execution_count": null,
      "outputs": []
    },
    {
      "cell_type": "code",
      "source": [
        "######################\n",
        "# Question 3 - Arrays\n",
        "######################"
      ],
      "metadata": {
        "id": "47l-vwT8IBYD"
      },
      "execution_count": null,
      "outputs": []
    },
    {
      "cell_type": "code",
      "source": [
        "# A\n",
        "\n",
        "vector1 <- c(2,18,30)\n",
        "vector2 <- c(10,14,17,13,11,15,22,11,33)\n",
        "\n",
        "v12 = array(c(vector1, vector2), dim = c(3, 4, 1))\n",
        "\n",
        "if(class(v12) == \"array\") {\n",
        "  print(\"Array\")\n",
        "} else {\n",
        "  print(\"Not array\")\n",
        "}\n",
        "\n",
        "print(length(v12))"
      ],
      "metadata": {
        "id": "f5jFxjYUIrCz"
      },
      "execution_count": null,
      "outputs": []
    },
    {
      "cell_type": "code",
      "source": [
        "# B\n",
        "\n",
        "states <- c(\"MICHIGAN\",\"NEW YORK\",\"WASHINGTON\",\"FLORIDA\", \"NORTH CAROLINA\", \"NORTH DAKOTA\")\n",
        "\n",
        "lapply(states, tolower)\n",
        "str(states)"
      ],
      "metadata": {
        "id": "_gnEK02P_yH7"
      },
      "execution_count": null,
      "outputs": []
    },
    {
      "cell_type": "code",
      "source": [
        "######################\n",
        "# Question 5 - Basic Plotting\n",
        "######################"
      ],
      "metadata": {
        "id": "FPJrVb9R7YyN"
      },
      "execution_count": null,
      "outputs": []
    },
    {
      "cell_type": "code",
      "source": [
        "# A + B\n",
        "\n",
        "d = c(9, 4, 28, 22, -3, 10)\n",
        "\n",
        "plot(d, type = 'l', xlab = \"Position of the vector\",\n",
        "ylab = \"Measurement\", main = \"Figure Title\",\n",
        "col = \"blue\", lwd = 3)\n",
        "\n",
        "dev.off()"
      ],
      "metadata": {
        "colab": {
          "base_uri": "https://localhost:8080/",
          "height": 454
        },
        "id": "iVhiJoJm7faQ",
        "outputId": "7a70cb0a-a1e1-429c-e5ce-183a0988a5c9"
      },
      "execution_count": null,
      "outputs": [
        {
          "output_type": "display_data",
          "data": {
            "text/html": [
              "<strong>null device:</strong> 1"
            ],
            "text/markdown": "**null device:** 1",
            "text/latex": "\\textbf{null device:} 1",
            "text/plain": [
              "null device \n",
              "          1 "
            ]
          },
          "metadata": {}
        },
        {
          "output_type": "display_data",
          "data": {
            "text/plain": [
              "Plot with title “Figure Title”"
            ],
            "image/png": "[encoded data removed]"
          },
          "metadata": {
            "image/png": {
              "width": 420,
              "height": 420
            }
          }
        }
      ]
    },
    {
      "cell_type": "code",
      "source": [],
      "metadata": {
        "id": "MVgsry2r7lyF"
      },
      "execution_count": null,
      "outputs": []
    }
  ]
}