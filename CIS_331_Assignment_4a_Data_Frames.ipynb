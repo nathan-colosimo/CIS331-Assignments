{
  "nbformat": 4,
  "nbformat_minor": 0,
  "metadata": {
    "colab": {
      "provenance": [],
      "authorship_tag": "ABX9TyOlkpnHmFZtzxPUboprarqF",
      "include_colab_link": true
    },
    "kernelspec": {
      "name": "ir",
      "display_name": "R"
    },
    "language_info": {
      "name": "R"
    }
  },
  "cells": [
    {
      "cell_type": "markdown",
      "metadata": {
        "id": "view-in-github",
        "colab_type": "text"
      },
      "source": [
        "<a href=\"https://colab.research.google.com/github/nathan-colosimo/CIS331-Assignments/blob/main/CIS_331_Assignment_4a_Data_Frames.ipynb\" target=\"_parent\"><img src=\"https://colab.research.google.com/assets/colab-badge.svg\" alt=\"Open In Colab\"/></a>"
      ]
    },
    {
      "cell_type": "code",
      "execution_count": 34,
      "metadata": {
        "id": "8Bce9CpOWPy2"
      },
      "outputs": [],
      "source": [
        "# ---\n",
        "# title: \"Assignment 4a: Data Frames\"\n",
        "# author: \"Nathan Colosimo\"\n",
        "# Date: \"12/1/2022\"\n",
        "# ---\n",
        "\n",
        "# Definition of vectors\n",
        "name <- c(\"Lightyear 0\",\"Tesla Model 3\", \"XPENG P5\",\"Lucid Air Pure\", \"Honda e\", \"Porsche Taycan\",  \"Mercedes EQE 350\", \"Volkswagen ID.5 GTX\") \n",
        "accel <- c(10.0, 6.1, 7.5,4.2, 9.0,5.4,6.4,6.3 )\n",
        "top_speed <- c(160,225,150,200,145,230,210,180) # km/h\n",
        "range <- c(550, 380, 385, 560,170,410, 515,405) # in km\n",
        "energy_consu <- c(109, 151,156,157,168,173,173,190 ) # Wh/km\n",
        "tax_credits <- c(TRUE,FALSE,TRUE, TRUE, FALSE, TRUE, TRUE, FALSE )"
      ]
    },
    {
      "cell_type": "code",
      "source": [
        "# Task 1 [3pts]\n",
        "# Create a data frame from the vectors above and call it ev_df\n",
        "\n",
        "ev_df <- data.frame(name, accel, top_speed, range, energy_consu, tax_credits)"
      ],
      "metadata": {
        "id": "z5L4wwRrXc6R"
      },
      "execution_count": 35,
      "outputs": []
    },
    {
      "cell_type": "code",
      "source": [
        "# Task 2 [1pt]\n",
        "# Check the structure of ev_df with str()\n",
        "\n",
        "str(ev_df)"
      ],
      "metadata": {
        "colab": {
          "base_uri": "https://localhost:8080/"
        },
        "id": "1V29k2E1Xy_8",
        "outputId": "5da3033f-5629-408e-9a56-5e3072cc6482"
      },
      "execution_count": 36,
      "outputs": [
        {
          "output_type": "stream",
          "name": "stdout",
          "text": [
            "'data.frame':\t8 obs. of  6 variables:\n",
            " $ name        : chr  \"Lightyear 0\" \"Tesla Model 3\" \"XPENG P5\" \"Lucid Air Pure\" ...\n",
            " $ accel       : num  10 6.1 7.5 4.2 9 5.4 6.4 6.3\n",
            " $ top_speed   : num  160 225 150 200 145 230 210 180\n",
            " $ range       : num  550 380 385 560 170 410 515 405\n",
            " $ energy_consu: num  109 151 156 157 168 173 173 190\n",
            " $ tax_credits : logi  TRUE FALSE TRUE TRUE FALSE TRUE ...\n"
          ]
        }
      ]
    },
    {
      "cell_type": "code",
      "source": [
        "#### Task 3 [1pt] \n",
        "# *From* `ev_df`*, select the top speed of Tesla Model 3: this is the value at the second row and the third column. Simply print out the result.*\n",
        "\n",
        "ev_df[2,3]"
      ],
      "metadata": {
        "colab": {
          "base_uri": "https://localhost:8080/",
          "height": 34
        },
        "id": "6B6pZS2SYITr",
        "outputId": "222063c5-b674-4ea8-cb0e-7016bf7e161f"
      },
      "execution_count": 37,
      "outputs": [
        {
          "output_type": "display_data",
          "data": {
            "text/html": [
              "225"
            ],
            "text/markdown": "225",
            "text/latex": "225",
            "text/plain": [
              "[1] 225"
            ]
          },
          "metadata": {}
        }
      ]
    },
    {
      "cell_type": "code",
      "source": [
        "#### Task 4 [1pt]\n",
        "# Print out data for Lucid Air Pure (entire fourth row)\n",
        "\n",
        "ev_df[4, ]"
      ],
      "metadata": {
        "colab": {
          "base_uri": "https://localhost:8080/",
          "height": 129
        },
        "id": "SUq3BInuYomm",
        "outputId": "b3b6f614-5acb-4a50-d910-0e2f050472a6"
      },
      "execution_count": 38,
      "outputs": [
        {
          "output_type": "display_data",
          "data": {
            "text/html": [
              "<table class=\"dataframe\">\n",
              "<caption>A data.frame: 1 × 6</caption>\n",
              "<thead>\n",
              "\t<tr><th></th><th scope=col>name</th><th scope=col>accel</th><th scope=col>top_speed</th><th scope=col>range</th><th scope=col>energy_consu</th><th scope=col>tax_credits</th></tr>\n",
              "\t<tr><th></th><th scope=col>&lt;chr&gt;</th><th scope=col>&lt;dbl&gt;</th><th scope=col>&lt;dbl&gt;</th><th scope=col>&lt;dbl&gt;</th><th scope=col>&lt;dbl&gt;</th><th scope=col>&lt;lgl&gt;</th></tr>\n",
              "</thead>\n",
              "<tbody>\n",
              "\t<tr><th scope=row>4</th><td>Lucid Air Pure</td><td>4.2</td><td>200</td><td>560</td><td>157</td><td>TRUE</td></tr>\n",
              "</tbody>\n",
              "</table>\n"
            ],
            "text/markdown": "\nA data.frame: 1 × 6\n\n| <!--/--> | name &lt;chr&gt; | accel &lt;dbl&gt; | top_speed &lt;dbl&gt; | range &lt;dbl&gt; | energy_consu &lt;dbl&gt; | tax_credits &lt;lgl&gt; |\n|---|---|---|---|---|---|---|\n| 4 | Lucid Air Pure | 4.2 | 200 | 560 | 157 | TRUE |\n\n",
            "text/latex": "A data.frame: 1 × 6\n\\begin{tabular}{r|llllll}\n  & name & accel & top\\_speed & range & energy\\_consu & tax\\_credits\\\\\n  & <chr> & <dbl> & <dbl> & <dbl> & <dbl> & <lgl>\\\\\n\\hline\n\t4 & Lucid Air Pure & 4.2 & 200 & 560 & 157 & TRUE\\\\\n\\end{tabular}\n",
            "text/plain": [
              "  name           accel top_speed range energy_consu tax_credits\n",
              "4 Lucid Air Pure 4.2   200       560   157          TRUE       "
            ]
          },
          "metadata": {}
        }
      ]
    },
    {
      "cell_type": "code",
      "source": [
        "#### Task 5 [1pt]\n",
        "# Display first 5 values of the name and range column\n",
        "\n",
        "ev_df[1:5, \"name\"]\n",
        "ev_df[1:5, \"range\"]"
      ],
      "metadata": {
        "colab": {
          "base_uri": "https://localhost:8080/",
          "height": 52
        },
        "id": "hKxCRbJfYtSU",
        "outputId": "f5da8605-4dcf-4548-8ec0-cd9ea322d7f7"
      },
      "execution_count": 39,
      "outputs": [
        {
          "output_type": "display_data",
          "data": {
            "text/html": [
              "<style>\n",
              ".list-inline {list-style: none; margin:0; padding: 0}\n",
              ".list-inline>li {display: inline-block}\n",
              ".list-inline>li:not(:last-child)::after {content: \"\\00b7\"; padding: 0 .5ex}\n",
              "</style>\n",
              "<ol class=list-inline><li>'Lightyear 0'</li><li>'Tesla Model 3'</li><li>'XPENG P5'</li><li>'Lucid Air Pure'</li><li>'Honda e'</li></ol>\n"
            ],
            "text/markdown": "1. 'Lightyear 0'\n2. 'Tesla Model 3'\n3. 'XPENG P5'\n4. 'Lucid Air Pure'\n5. 'Honda e'\n\n\n",
            "text/latex": "\\begin{enumerate*}\n\\item 'Lightyear 0'\n\\item 'Tesla Model 3'\n\\item 'XPENG P5'\n\\item 'Lucid Air Pure'\n\\item 'Honda e'\n\\end{enumerate*}\n",
            "text/plain": [
              "[1] \"Lightyear 0\"    \"Tesla Model 3\"  \"XPENG P5\"       \"Lucid Air Pure\"\n",
              "[5] \"Honda e\"       "
            ]
          },
          "metadata": {}
        },
        {
          "output_type": "display_data",
          "data": {
            "text/html": [
              "<style>\n",
              ".list-inline {list-style: none; margin:0; padding: 0}\n",
              ".list-inline>li {display: inline-block}\n",
              ".list-inline>li:not(:last-child)::after {content: \"\\00b7\"; padding: 0 .5ex}\n",
              "</style>\n",
              "<ol class=list-inline><li>550</li><li>380</li><li>385</li><li>560</li><li>170</li></ol>\n"
            ],
            "text/markdown": "1. 550\n2. 380\n3. 385\n4. 560\n5. 170\n\n\n",
            "text/latex": "\\begin{enumerate*}\n\\item 550\n\\item 380\n\\item 385\n\\item 560\n\\item 170\n\\end{enumerate*}\n",
            "text/plain": [
              "[1] 550 380 385 560 170"
            ]
          },
          "metadata": {}
        }
      ]
    },
    {
      "cell_type": "code",
      "source": [
        "#### Task 6 [2pt]\n",
        "# Select the tax credits variable from ev_df\n",
        "taxcredits_vector <- ev_df[, \"tax_credits\"]\n",
        "# Print out taxcredits_vector\n",
        "taxcredits_vector"
      ],
      "metadata": {
        "colab": {
          "base_uri": "https://localhost:8080/",
          "height": 34
        },
        "id": "Kr7gDNHfZhoD",
        "outputId": "4a9eabc3-11f8-4178-f380-f096bb8af61b"
      },
      "execution_count": 40,
      "outputs": [
        {
          "output_type": "display_data",
          "data": {
            "text/html": [
              "<style>\n",
              ".list-inline {list-style: none; margin:0; padding: 0}\n",
              ".list-inline>li {display: inline-block}\n",
              ".list-inline>li:not(:last-child)::after {content: \"\\00b7\"; padding: 0 .5ex}\n",
              "</style>\n",
              "<ol class=list-inline><li>TRUE</li><li>FALSE</li><li>TRUE</li><li>TRUE</li><li>FALSE</li><li>TRUE</li><li>TRUE</li><li>FALSE</li></ol>\n"
            ],
            "text/markdown": "1. TRUE\n2. FALSE\n3. TRUE\n4. TRUE\n5. FALSE\n6. TRUE\n7. TRUE\n8. FALSE\n\n\n",
            "text/latex": "\\begin{enumerate*}\n\\item TRUE\n\\item FALSE\n\\item TRUE\n\\item TRUE\n\\item FALSE\n\\item TRUE\n\\item TRUE\n\\item FALSE\n\\end{enumerate*}\n",
            "text/plain": [
              "[1]  TRUE FALSE  TRUE  TRUE FALSE  TRUE  TRUE FALSE"
            ]
          },
          "metadata": {}
        }
      ]
    },
    {
      "cell_type": "code",
      "source": [
        "#### Task 7 [2pts]\n",
        "# Display EV's / vehicles with acceleration < 7.0\n",
        "\n",
        "subset(ev_df, accel < 7.0)"
      ],
      "metadata": {
        "colab": {
          "base_uri": "https://localhost:8080/",
          "height": 255
        },
        "id": "t_Ru0FHJZxEE",
        "outputId": "fe5f63a0-cd6c-4bbb-acb0-62184f4642cf"
      },
      "execution_count": 41,
      "outputs": [
        {
          "output_type": "display_data",
          "data": {
            "text/html": [
              "<table class=\"dataframe\">\n",
              "<caption>A data.frame: 5 × 6</caption>\n",
              "<thead>\n",
              "\t<tr><th></th><th scope=col>name</th><th scope=col>accel</th><th scope=col>top_speed</th><th scope=col>range</th><th scope=col>energy_consu</th><th scope=col>tax_credits</th></tr>\n",
              "\t<tr><th></th><th scope=col>&lt;chr&gt;</th><th scope=col>&lt;dbl&gt;</th><th scope=col>&lt;dbl&gt;</th><th scope=col>&lt;dbl&gt;</th><th scope=col>&lt;dbl&gt;</th><th scope=col>&lt;lgl&gt;</th></tr>\n",
              "</thead>\n",
              "<tbody>\n",
              "\t<tr><th scope=row>2</th><td>Tesla Model 3      </td><td>6.1</td><td>225</td><td>380</td><td>151</td><td>FALSE</td></tr>\n",
              "\t<tr><th scope=row>4</th><td>Lucid Air Pure     </td><td>4.2</td><td>200</td><td>560</td><td>157</td><td> TRUE</td></tr>\n",
              "\t<tr><th scope=row>6</th><td>Porsche Taycan     </td><td>5.4</td><td>230</td><td>410</td><td>173</td><td> TRUE</td></tr>\n",
              "\t<tr><th scope=row>7</th><td>Mercedes EQE 350   </td><td>6.4</td><td>210</td><td>515</td><td>173</td><td> TRUE</td></tr>\n",
              "\t<tr><th scope=row>8</th><td>Volkswagen ID.5 GTX</td><td>6.3</td><td>180</td><td>405</td><td>190</td><td>FALSE</td></tr>\n",
              "</tbody>\n",
              "</table>\n"
            ],
            "text/markdown": "\nA data.frame: 5 × 6\n\n| <!--/--> | name &lt;chr&gt; | accel &lt;dbl&gt; | top_speed &lt;dbl&gt; | range &lt;dbl&gt; | energy_consu &lt;dbl&gt; | tax_credits &lt;lgl&gt; |\n|---|---|---|---|---|---|---|\n| 2 | Tesla Model 3       | 6.1 | 225 | 380 | 151 | FALSE |\n| 4 | Lucid Air Pure      | 4.2 | 200 | 560 | 157 |  TRUE |\n| 6 | Porsche Taycan      | 5.4 | 230 | 410 | 173 |  TRUE |\n| 7 | Mercedes EQE 350    | 6.4 | 210 | 515 | 173 |  TRUE |\n| 8 | Volkswagen ID.5 GTX | 6.3 | 180 | 405 | 190 | FALSE |\n\n",
            "text/latex": "A data.frame: 5 × 6\n\\begin{tabular}{r|llllll}\n  & name & accel & top\\_speed & range & energy\\_consu & tax\\_credits\\\\\n  & <chr> & <dbl> & <dbl> & <dbl> & <dbl> & <lgl>\\\\\n\\hline\n\t2 & Tesla Model 3       & 6.1 & 225 & 380 & 151 & FALSE\\\\\n\t4 & Lucid Air Pure      & 4.2 & 200 & 560 & 157 &  TRUE\\\\\n\t6 & Porsche Taycan      & 5.4 & 230 & 410 & 173 &  TRUE\\\\\n\t7 & Mercedes EQE 350    & 6.4 & 210 & 515 & 173 &  TRUE\\\\\n\t8 & Volkswagen ID.5 GTX & 6.3 & 180 & 405 & 190 & FALSE\\\\\n\\end{tabular}\n",
            "text/plain": [
              "  name                accel top_speed range energy_consu tax_credits\n",
              "2 Tesla Model 3       6.1   225       380   151          FALSE      \n",
              "4 Lucid Air Pure      4.2   200       560   157           TRUE      \n",
              "6 Porsche Taycan      5.4   230       410   173           TRUE      \n",
              "7 Mercedes EQE 350    6.4   210       515   173           TRUE      \n",
              "8 Volkswagen ID.5 GTX 6.3   180       405   190          FALSE      "
            ]
          },
          "metadata": {}
        }
      ]
    },
    {
      "cell_type": "code",
      "source": [
        "#### Task 8 [2pts]\n",
        "# Adapt the code to select all columns for ev_df with tax_credits = FALSE \n",
        "\n",
        "subset(ev_df, tax_credits == FALSE)"
      ],
      "metadata": {
        "colab": {
          "base_uri": "https://localhost:8080/",
          "height": 192
        },
        "id": "O7pQx9oCdBMt",
        "outputId": "1d325ca4-9a2b-448a-c00c-e0d4298afafe"
      },
      "execution_count": 42,
      "outputs": [
        {
          "output_type": "display_data",
          "data": {
            "text/html": [
              "<table class=\"dataframe\">\n",
              "<caption>A data.frame: 3 × 6</caption>\n",
              "<thead>\n",
              "\t<tr><th></th><th scope=col>name</th><th scope=col>accel</th><th scope=col>top_speed</th><th scope=col>range</th><th scope=col>energy_consu</th><th scope=col>tax_credits</th></tr>\n",
              "\t<tr><th></th><th scope=col>&lt;chr&gt;</th><th scope=col>&lt;dbl&gt;</th><th scope=col>&lt;dbl&gt;</th><th scope=col>&lt;dbl&gt;</th><th scope=col>&lt;dbl&gt;</th><th scope=col>&lt;lgl&gt;</th></tr>\n",
              "</thead>\n",
              "<tbody>\n",
              "\t<tr><th scope=row>2</th><td>Tesla Model 3      </td><td>6.1</td><td>225</td><td>380</td><td>151</td><td>FALSE</td></tr>\n",
              "\t<tr><th scope=row>5</th><td>Honda e            </td><td>9.0</td><td>145</td><td>170</td><td>168</td><td>FALSE</td></tr>\n",
              "\t<tr><th scope=row>8</th><td>Volkswagen ID.5 GTX</td><td>6.3</td><td>180</td><td>405</td><td>190</td><td>FALSE</td></tr>\n",
              "</tbody>\n",
              "</table>\n"
            ],
            "text/markdown": "\nA data.frame: 3 × 6\n\n| <!--/--> | name &lt;chr&gt; | accel &lt;dbl&gt; | top_speed &lt;dbl&gt; | range &lt;dbl&gt; | energy_consu &lt;dbl&gt; | tax_credits &lt;lgl&gt; |\n|---|---|---|---|---|---|---|\n| 2 | Tesla Model 3       | 6.1 | 225 | 380 | 151 | FALSE |\n| 5 | Honda e             | 9.0 | 145 | 170 | 168 | FALSE |\n| 8 | Volkswagen ID.5 GTX | 6.3 | 180 | 405 | 190 | FALSE |\n\n",
            "text/latex": "A data.frame: 3 × 6\n\\begin{tabular}{r|llllll}\n  & name & accel & top\\_speed & range & energy\\_consu & tax\\_credits\\\\\n  & <chr> & <dbl> & <dbl> & <dbl> & <dbl> & <lgl>\\\\\n\\hline\n\t2 & Tesla Model 3       & 6.1 & 225 & 380 & 151 & FALSE\\\\\n\t5 & Honda e             & 9.0 & 145 & 170 & 168 & FALSE\\\\\n\t8 & Volkswagen ID.5 GTX & 6.3 & 180 & 405 & 190 & FALSE\\\\\n\\end{tabular}\n",
            "text/plain": [
              "  name                accel top_speed range energy_consu tax_credits\n",
              "2 Tesla Model 3       6.1   225       380   151          FALSE      \n",
              "5 Honda e             9.0   145       170   168          FALSE      \n",
              "8 Volkswagen ID.5 GTX 6.3   180       405   190          FALSE      "
            ]
          },
          "metadata": {}
        }
      ]
    },
    {
      "cell_type": "code",
      "source": [
        "#### Task 9 [2pts]\n",
        "# Use order() to create rankings\n",
        "rankings <- order(ev_df[, \"accel\"])\n",
        "# Use rankings to sort ev_df and display the output\n",
        "rankings\n",
        "sort(rankings)"
      ],
      "metadata": {
        "colab": {
          "base_uri": "https://localhost:8080/",
          "height": 52
        },
        "id": "M5cqrvO1dJCF",
        "outputId": "af0107ee-2be3-46f4-8e18-5e95b17c7093"
      },
      "execution_count": 43,
      "outputs": [
        {
          "output_type": "display_data",
          "data": {
            "text/html": [
              "<style>\n",
              ".list-inline {list-style: none; margin:0; padding: 0}\n",
              ".list-inline>li {display: inline-block}\n",
              ".list-inline>li:not(:last-child)::after {content: \"\\00b7\"; padding: 0 .5ex}\n",
              "</style>\n",
              "<ol class=list-inline><li>4</li><li>6</li><li>2</li><li>8</li><li>7</li><li>3</li><li>5</li><li>1</li></ol>\n"
            ],
            "text/markdown": "1. 4\n2. 6\n3. 2\n4. 8\n5. 7\n6. 3\n7. 5\n8. 1\n\n\n",
            "text/latex": "\\begin{enumerate*}\n\\item 4\n\\item 6\n\\item 2\n\\item 8\n\\item 7\n\\item 3\n\\item 5\n\\item 1\n\\end{enumerate*}\n",
            "text/plain": [
              "[1] 4 6 2 8 7 3 5 1"
            ]
          },
          "metadata": {}
        },
        {
          "output_type": "display_data",
          "data": {
            "text/html": [
              "<style>\n",
              ".list-inline {list-style: none; margin:0; padding: 0}\n",
              ".list-inline>li {display: inline-block}\n",
              ".list-inline>li:not(:last-child)::after {content: \"\\00b7\"; padding: 0 .5ex}\n",
              "</style>\n",
              "<ol class=list-inline><li>1</li><li>2</li><li>3</li><li>4</li><li>5</li><li>6</li><li>7</li><li>8</li></ol>\n"
            ],
            "text/markdown": "1. 1\n2. 2\n3. 3\n4. 4\n5. 5\n6. 6\n7. 7\n8. 8\n\n\n",
            "text/latex": "\\begin{enumerate*}\n\\item 1\n\\item 2\n\\item 3\n\\item 4\n\\item 5\n\\item 6\n\\item 7\n\\item 8\n\\end{enumerate*}\n",
            "text/plain": [
              "[1] 1 2 3 4 5 6 7 8"
            ]
          },
          "metadata": {}
        }
      ]
    }
  ]
}